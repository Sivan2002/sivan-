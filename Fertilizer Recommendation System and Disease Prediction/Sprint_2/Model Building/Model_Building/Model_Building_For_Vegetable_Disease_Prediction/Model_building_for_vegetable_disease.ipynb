{
  "nbformat": 4,
  "nbformat_minor": 0,
  "metadata": {
    "colab": {
      "provenance": []
    },
    "kernelspec": {
      "name": "python3",
      "display_name": "Python 3"
    },
    "language_info": {
      "name": "python"
    }
  },
  "cells": [
    {
      "cell_type": "markdown",
      "source": [
        "# Team ID : PNT2022TMID38633\n",
        "# Model building for vegetable disease"
      ],
      "metadata": {
        "id": "7oUEisARHaR8"
      }
    },
    {
      "cell_type": "code",
      "source": [
        "from keras.preprocessing.image import ImageDataGenerator\n",
        "train_datagen=ImageDataGenerator(rescale=1./255,shear_range=0.2,zoom_range=0.2,horizontal_flip=True)\n",
        "test_datagen=ImageDataGenerator(rescale=1)"
      ],
      "metadata": {
        "id": "hdq3jV9Klc8w"
      },
      "execution_count": null,
      "outputs": []
    },
    {
      "cell_type": "code",
      "source": [
        "x_train=train_datagen.flow_from_directory(r'/content/drive/MyDrive/DataSet/Dataset Plant Disease/fruit-dataset/Veg-dataset/Veg-dataset/test_set',target_size=(128,128),batch_size=2,class_mode='categorical')\n",
        "x_test=test_datagen.flow_from_directory(r'/content/drive/MyDrive/DataSet/Dataset Plant Disease/fruit-dataset/Veg-dataset/Veg-dataset/train_set',target_size=(128,128),batch_size=2,class_mode='categorical')"
      ],
      "metadata": {
        "colab": {
          "base_uri": "https://localhost:8080/"
        },
        "id": "79L0kipdlp8g",
        "outputId": "f5596eb7-fba1-4ad0-e974-d5ddcf9740b8"
      },
      "execution_count": null,
      "outputs": [
        {
          "output_type": "stream",
          "name": "stdout",
          "text": [
            "Found 3417 images belonging to 9 classes.\n",
            "Found 11386 images belonging to 9 classes.\n"
          ]
        }
      ]
    },
    {
      "cell_type": "code",
      "source": [
        "from keras.models import Sequential\n",
        "from keras.layers import Dense\n",
        "from keras.layers import Convolution2D\n",
        "from keras.layers import MaxPooling2D\n",
        "from keras.layers import Flatten"
      ],
      "metadata": {
        "id": "3bRM2jaemGen"
      },
      "execution_count": null,
      "outputs": []
    },
    {
      "cell_type": "code",
      "source": [
        "model=Sequential()"
      ],
      "metadata": {
        "id": "Rt2LLaAmqJym"
      },
      "execution_count": null,
      "outputs": []
    },
    {
      "cell_type": "code",
      "source": [
        "model.add(Convolution2D(32,(3,3),input_shape=(128,128,3),activation='relu'))"
      ],
      "metadata": {
        "id": "U-_oL0VWqj5-"
      },
      "execution_count": null,
      "outputs": []
    },
    {
      "cell_type": "code",
      "source": [
        "model.add(MaxPooling2D(pool_size=(2,2)))"
      ],
      "metadata": {
        "id": "_6-ayjzOqqzA"
      },
      "execution_count": null,
      "outputs": []
    },
    {
      "cell_type": "code",
      "source": [
        "model.add(Flatten())"
      ],
      "metadata": {
        "id": "xvsBvBRqq6Tt"
      },
      "execution_count": null,
      "outputs": []
    },
    {
      "cell_type": "code",
      "source": [
        "model.add(Dense(units=300,kernel_initializer='uniform',activation='relu'))"
      ],
      "metadata": {
        "id": "V8QwFkPPrAo2"
      },
      "execution_count": null,
      "outputs": []
    },
    {
      "cell_type": "code",
      "source": [
        "model.add(Dense(units=150,kernel_initializer='random_uniform',activation='relu'))"
      ],
      "metadata": {
        "id": "U59JTUjmrCI-"
      },
      "execution_count": null,
      "outputs": []
    },
    {
      "cell_type": "code",
      "source": [
        "model.add(Dense(units=75,kernel_initializer='uniform',activation='relu'))"
      ],
      "metadata": {
        "id": "Msnt3ToRTKPD"
      },
      "execution_count": null,
      "outputs": []
    },
    {
      "cell_type": "code",
      "source": [
        "model.add(Dense(units=9,kernel_initializer='uniform',activation='softmax'))"
      ],
      "metadata": {
        "id": "KhbxKClJTpka"
      },
      "execution_count": null,
      "outputs": []
    },
    {
      "cell_type": "code",
      "source": [
        "model.compile(loss='categorical_crossentropy',optimizer=\"adam\",metrics=[\"accuracy\"])"
      ],
      "metadata": {
        "id": "1zT-7Zm8Tsgi"
      },
      "execution_count": null,
      "outputs": []
    },
    {
      "cell_type": "code",
      "source": [
        "model.fit(x_train,steps_per_epoch=89,epochs=20,validation_data=x_test,validation_steps=27)"
      ],
      "metadata": {
        "colab": {
          "base_uri": "https://localhost:8080/"
        },
        "id": "SB48eOMTTvMC",
        "outputId": "f89769ec-b916-4e5b-d00d-835d05b0e06b"
      },
      "execution_count": null,
      "outputs": [
        {
          "output_type": "stream",
          "name": "stdout",
          "text": [
            "Epoch 1/20\n",
            "89/89 [==============================] - 35s 385ms/step - loss: 2.1847 - accuracy: 0.1404 - val_loss: 106.8484 - val_accuracy: 0.2037\n",
            "Epoch 2/20\n",
            "89/89 [==============================] - 33s 377ms/step - loss: 2.1765 - accuracy: 0.1573 - val_loss: 11.9824 - val_accuracy: 0.0926\n",
            "Epoch 3/20\n",
            "89/89 [==============================] - 32s 360ms/step - loss: 2.1300 - accuracy: 0.1742 - val_loss: 15.3685 - val_accuracy: 0.2222\n",
            "Epoch 4/20\n",
            "89/89 [==============================] - 31s 350ms/step - loss: 2.1420 - accuracy: 0.1854 - val_loss: 5.1603 - val_accuracy: 0.1852\n",
            "Epoch 5/20\n",
            "89/89 [==============================] - 26s 298ms/step - loss: 2.0488 - accuracy: 0.2528 - val_loss: 74.2569 - val_accuracy: 0.2778\n",
            "Epoch 6/20\n",
            "89/89 [==============================] - 28s 309ms/step - loss: 2.1077 - accuracy: 0.1742 - val_loss: 63.1243 - val_accuracy: 0.2037\n",
            "Epoch 7/20\n",
            "89/89 [==============================] - 29s 326ms/step - loss: 2.1061 - accuracy: 0.2022 - val_loss: 16.3873 - val_accuracy: 0.1296\n",
            "Epoch 8/20\n",
            "89/89 [==============================] - 27s 303ms/step - loss: 2.0402 - accuracy: 0.2079 - val_loss: 38.0985 - val_accuracy: 0.2037\n",
            "Epoch 9/20\n",
            "89/89 [==============================] - 25s 286ms/step - loss: 2.0548 - accuracy: 0.2191 - val_loss: 3.3657 - val_accuracy: 0.1852\n",
            "Epoch 10/20\n",
            "89/89 [==============================] - 25s 278ms/step - loss: 2.0607 - accuracy: 0.1629 - val_loss: 40.5847 - val_accuracy: 0.1852\n",
            "Epoch 11/20\n",
            "89/89 [==============================] - 25s 284ms/step - loss: 2.0919 - accuracy: 0.1685 - val_loss: 2.5276 - val_accuracy: 0.2037\n",
            "Epoch 12/20\n",
            "89/89 [==============================] - 23s 257ms/step - loss: 2.0382 - accuracy: 0.1638 - val_loss: 2.0362 - val_accuracy: 0.1296\n",
            "Epoch 13/20\n",
            "89/89 [==============================] - 24s 265ms/step - loss: 2.0836 - accuracy: 0.1921 - val_loss: 17.4306 - val_accuracy: 0.1852\n",
            "Epoch 14/20\n",
            "89/89 [==============================] - 24s 268ms/step - loss: 2.0536 - accuracy: 0.2135 - val_loss: 89.3357 - val_accuracy: 0.1296\n",
            "Epoch 15/20\n",
            "89/89 [==============================] - 22s 242ms/step - loss: 2.0168 - accuracy: 0.2135 - val_loss: 2.0947 - val_accuracy: 0.1667\n",
            "Epoch 16/20\n",
            "89/89 [==============================] - 23s 252ms/step - loss: 2.0462 - accuracy: 0.2416 - val_loss: 9.1029 - val_accuracy: 0.2778\n",
            "Epoch 17/20\n",
            "89/89 [==============================] - 21s 235ms/step - loss: 2.0865 - accuracy: 0.1966 - val_loss: 2.5007 - val_accuracy: 0.2593\n",
            "Epoch 18/20\n",
            "89/89 [==============================] - 21s 237ms/step - loss: 2.0585 - accuracy: 0.2191 - val_loss: 52.0719 - val_accuracy: 0.1481\n",
            "Epoch 19/20\n",
            "89/89 [==============================] - 19s 213ms/step - loss: 2.0058 - accuracy: 0.2191 - val_loss: 7.0255 - val_accuracy: 0.1667\n",
            "Epoch 20/20\n",
            "89/89 [==============================] - 21s 232ms/step - loss: 1.9033 - accuracy: 0.2978 - val_loss: 6.2714 - val_accuracy: 0.2407\n"
          ]
        },
        {
          "output_type": "execute_result",
          "data": {
            "text/plain": [
              "<keras.callbacks.History at 0x7f9c213ac550>"
            ]
          },
          "metadata": {},
          "execution_count": 105
        }
      ]
    },
    {
      "cell_type": "markdown",
      "source": [
        "## Save the Model"
      ],
      "metadata": {
        "id": "elaX9HeUHmQS"
      }
    },
    {
      "cell_type": "code",
      "source": [
        "model.save('vegetable.h5')"
      ],
      "metadata": {
        "id": "_Q163hlcXx-6"
      },
      "execution_count": null,
      "outputs": []
    },
    {
      "cell_type": "code",
      "source": [
        "model.summary()"
      ],
      "metadata": {
        "colab": {
          "base_uri": "https://localhost:8080/"
        },
        "id": "3VsPg2UrZSy9",
        "outputId": "e3744bd2-2423-49b2-b42b-0656221d431c"
      },
      "execution_count": null,
      "outputs": [
        {
          "output_type": "stream",
          "name": "stdout",
          "text": [
            "Model: \"sequential_3\"\n",
            "_________________________________________________________________\n",
            " Layer (type)                Output Shape              Param #   \n",
            "=================================================================\n",
            " conv2d_3 (Conv2D)           (None, 126, 126, 32)      896       \n",
            "                                                                 \n",
            " max_pooling2d_2 (MaxPooling  (None, 63, 63, 32)       0         \n",
            " 2D)                                                             \n",
            "                                                                 \n",
            " flatten_2 (Flatten)         (None, 127008)            0         \n",
            "                                                                 \n",
            " dense_6 (Dense)             (None, 40)                5080360   \n",
            "                                                                 \n",
            " dense_7 (Dense)             (None, 20)                820       \n",
            "                                                                 \n",
            " dense_8 (Dense)             (None, 300)               6300      \n",
            "                                                                 \n",
            " dense_9 (Dense)             (None, 150)               45150     \n",
            "                                                                 \n",
            " dense_10 (Dense)            (None, 75)                11325     \n",
            "                                                                 \n",
            " dense_11 (Dense)            (None, 9)                 684       \n",
            "                                                                 \n",
            "=================================================================\n",
            "Total params: 5,145,535\n",
            "Trainable params: 5,145,535\n",
            "Non-trainable params: 0\n",
            "_________________________________________________________________\n"
          ]
        }
      ]
    }
  ]
}